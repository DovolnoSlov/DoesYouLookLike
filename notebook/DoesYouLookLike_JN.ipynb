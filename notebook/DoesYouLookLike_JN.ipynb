{
 "cells": [
  {
   "cell_type": "markdown",
   "id": "93bdcead",
   "metadata": {},
   "source": [
    "# Does You Look Like"
   ]
  },
  {
   "cell_type": "code",
   "execution_count": 9,
   "id": "5b8c1da6",
   "metadata": {},
   "outputs": [],
   "source": [
    "import pandas as pd\n",
    "import numpy as np\n",
    "import matplotlib.pyplot as plt\n",
    "import os\n",
    "import shutil\n",
    "from bing_image_downloader.downloader import download\n",
    "import face_recognition\n",
    "from PIL import Image, ImageOps\n",
    "import pickle\n",
    "import json\n",
    "from tqdm import tqdm\n",
    "from glob import glob\n",
    "from collections import Counter\n",
    "\n",
    "from sklearn.linear_model import LogisticRegression\n",
    "\n",
    "from sklearn.metrics import f1_score\n",
    "import multiprocessing\n",
    "import warnings\n",
    "warnings.filterwarnings('ignore')\n",
    "\n",
    "''' Главное чтобы все параметры из конфига подтянуть'''"
   ]
  },
  {
   "cell_type": "code",
   "execution_count": 8,
   "id": "21842bf9",
   "metadata": {},
   "outputs": [],
   "source": [
    "# download_pics\n",
    "celebs_women = ['Angelina Jolie', 'Helena Bonham Carter', 'Jennifer Aniston', 'Julia Roberts', 'Kate Beckinsale', \n",
    "              'Keira Knightley', 'Lindsey Stirling', 'Marilyn Monroe', 'Monica Bellucci', 'Lucy Liu', 'Scarlett Johansson']\n",
    "\n",
    "path_to_images_dir = os.path.abspath(os.path.join('E:', os.path.sep, 'Python', os.path.sep, 'image'))\n",
    "path_model = os.path.abspath(os.path.join('E:', os.path.sep, 'Python', os.path.sep, 'model'))\n",
    "size_new = 256\n",
    "limit_load_image = 15\n",
    "random_state = 13\n",
    "test_size = 0.25\n",
    "C = 0.8"
   ]
  },
  {
   "cell_type": "markdown",
   "id": "8addeb70",
   "metadata": {},
   "source": [
    "1 - download_images (+ rename_dir + count_files_in_dir)\n",
    "\n",
    "2 - reformat_photo\n",
    "\n",
    "3 - GetEmbedding(get_embedding)\n",
    "\n",
    "4 - Загрузка данных + обучение модели + тест модели + сохранение модели в pickle\n",
    "\n",
    "(1-4) выполняются единоразово - для создания обученной модели\n",
    " \n",
    ".\n",
    "\n",
    "5 - Загрузка фото с поиском лица + загрузка модели + предсказание\n",
    "\n",
    "6 - Вывод инфы в бота"
   ]
  },
  {
   "cell_type": "code",
   "execution_count": 3,
   "id": "ca79d388",
   "metadata": {},
   "outputs": [],
   "source": [
    "def download_images(path_download: str, actors: list, limit_load: int=15) -> None:\n",
    "    '''\n",
    "    Загрузка изображений указанных актёров/актрис\n",
    "    \n",
    "    :param path_download: путь для сохранения изображений на сервере\n",
    "    :param actors: список актёров/актрис\n",
    "    :param limit_load: количество изображений для загрузки\n",
    "    \n",
    "    :return: None\n",
    "    '''\n",
    "    \n",
    "    # проверка наличия каталогов с изображениями\n",
    "    # удаление в случае нахождения\n",
    "    try:\n",
    "        shutil.rmtree(path_download)\n",
    "        print('Дерево каталогов удалено')\n",
    "    except OSError as e:\n",
    "        print('Error: %s : %s' % (path_download, e.strerror))\n",
    "\n",
    "    # загрузка изображений из Bing\n",
    "    for name_actor in tqdm(actors):\n",
    "        #output_dir_path = os.path.join(path_to_images, findCeleb)\n",
    "        find_string = f'face {name_actor}'\n",
    "        download(find_string, limit=limit_load,  output_dir=path_download,\n",
    "                 adult_filter_off=True, force_replace=False, timeout=60, verbose=False)\n",
    "        \n",
    "        # переименование каталогов с загруженными изображениями\n",
    "        rename_dir(path_download, find_string, name_actor)\n",
    "        \n",
    "        # подсчёт количества загруженных изображений по каждому запросу\n",
    "        # с удалением при количестве < 2\n",
    "        if count_files_in_dir(path_download, name_actor):\n",
    "            actors.remove(name_actor)\n",
    "\n",
    "        \n",
    "def rename_dir(path_dir: str, name_old: str, name_new: str) -> None:\n",
    "    '''\n",
    "    Переименование каталога\n",
    "    \n",
    "    :param path_dir: путь хранения каталогов\n",
    "    :param name_old: старое имя каталога\n",
    "    :param name_new: новое имя каталога\n",
    "    \n",
    "    :return: None        \n",
    "    '''\n",
    "    \n",
    "    path_old = os.path.join(path_dir, os.path.sep, name_old)\n",
    "    path_new = os.path.join(path_dir, os.path.sep, name_new)\n",
    "    os.rename(path_old, path_new) \n",
    "\n",
    "    \n",
    "def count_files_in_dir(path_dir: str, name_dir: str) -> bool:\n",
    "    '''\n",
    "    Оценка количества файлов в каталогах\n",
    "    \n",
    "    :param path_dir: путь хранения каталогов\n",
    "    :param name_dir: наименование проверяемого каталога\n",
    "    \n",
    "    :return: True (if < 2) / False\n",
    "    :rtype: bool\n",
    "    '''\n",
    "    \n",
    "    path_glob = os.path.join(path_dir, os.path.sep, name_dir)\n",
    "    files = len(glob(path_glob))\n",
    "    if files < 2:\n",
    "        return True\n",
    "    return False"
   ]
  },
  {
   "cell_type": "code",
   "execution_count": 4,
   "id": "48da3218",
   "metadata": {},
   "outputs": [],
   "source": [
    "def reformat_photo(path_load: str, actors: list, size_new: int) -> None:\n",
    "    '''\n",
    "    Изменение размера всех изображений\n",
    "    :param path_load: путь до каталогов с изображениями\n",
    "    :param actors: список актёров/актрис\n",
    "    :param size_new: необходимый размер изображения по одной из сторон\n",
    "    \n",
    "    :return: None\n",
    "    '''\n",
    "    \n",
    "    for name in actors:\n",
    "        path_to_images = os.path.join(path_load, os.path.sep, name)\n",
    "        images = os.listdir(path_to_images)\n",
    "        for img in images:\n",
    "            path_image = os.path.join(path_to_images, os.path.sep, img)\n",
    "            # изменение формата изображения и сохранения под тем же именем\n",
    "            with Image.open(path_image) as photo:\n",
    "                photo_resized = resize_photo(photo, size_new)\n",
    "                photo_resized_conv = photo_resized.convert('RGB')\n",
    "                photo_resized_conv.save(path_image)\n",
    "                \n",
    "def resize_photo(image: Image, size_new: int) -> Image:\n",
    "    '''\n",
    "    Изменение размера изображения\n",
    "    :param image: исходное изображение\n",
    "    :param size_new: необходимый размер изображения по одной из сторон\n",
    "    \n",
    "    :return: финальное изображение\n",
    "    :rtype: Image\n",
    "    '''\n",
    "    \n",
    "    # получение размера исходного изображения\n",
    "    size = image.size\n",
    "    \n",
    "    # рассчёт коэффициента по одной из сторон\n",
    "    coef = size_new / size[0]\n",
    "    first_side = int(size[0] * coef)\n",
    "    second_side = int(size[1] * coef)\n",
    "    \n",
    "    # изменение размера изображения\n",
    "    resized_image = image.resize((first_side, second_side))\n",
    "    resized_image = resized_image.convert('RGB')\n",
    "    return resized_image"
   ]
  },
  {
   "cell_type": "code",
   "execution_count": 5,
   "id": "65c50faa",
   "metadata": {},
   "outputs": [],
   "source": [
    "class GetEmbedding:\n",
    "    '''\n",
    "    Поиск лиц на фотографиях, и сохранение полученных эмбедингов в pickle\n",
    "    \n",
    "    \n",
    "    Args:\n",
    "        actors (list): список актёров/актрис \n",
    "        path_load (str): путь до каталогов с изображениями\n",
    "        path_save (str): путь сохранения эмбеддингов и таргетов\n",
    "        \n",
    "    '''\n",
    "    \n",
    "    def __init__(self, actors: list, path_load: str, path_save: str):\n",
    "        self.actors = actors\n",
    "        self.path_load = path_load\n",
    "        self.path_save = path_save\n",
    "        \n",
    "    def get_embedding(self) -> None:\n",
    "        ''' Получение эмбеддингов, таргетов, имён с индексами, и сохранение в файлы '''\n",
    "        \n",
    "        embeddings, targets, name_labels = self.__create_embedding()\n",
    "        \n",
    "        path_emb = os.path.join(self.path_save, os.path.sep, 'embeddings.pkl')\n",
    "        with open(path_emb, 'wb') as f:\n",
    "            pickle.dump(embeddings, f)\n",
    "        \n",
    "        path_tar = os.path.join(self.path_save, os.path.sep, 'targets.pkl')\n",
    "        with open(path_tar, 'wb') as f:\n",
    "            pickle.dump(targets, f)\n",
    "            \n",
    "        path_act = os.path.join(self.path_save, os.path.sep, 'name_labels.json')\n",
    "        json_act = json.dump(name_labels, indent=4)\n",
    "        with open(path_act, 'wb') as f:\n",
    "            f.write(json_act)\n",
    "        \n",
    "    def __create_embedding(self) -> tuple[np.array, list, dict]:\n",
    "        '''\n",
    "        Поиск лиц,\n",
    "        и формирование эмбеддингов, таргетов и словаря имена:таргеты\n",
    "\n",
    "        :return: эмбеддинги, таргеты, словарь имена:таргеты\n",
    "        :rtype: tuple[np.array, list, dict]\n",
    "        '''\n",
    "        \n",
    "        embeddings = np.empty(128)\n",
    "        targets = []\n",
    "        name_labels = self.__create_labels()\n",
    "        for name in self.actors:\n",
    "            path_to_images = os.path.join(self.path_load, os.path.sep, name)\n",
    "            images_for_name = os.listdir(path_to_images)\n",
    "            for img in images_for_name:\n",
    "                try:\n",
    "                    path_image = os.path.join(path_to_images, os.path.sep, img)\n",
    "                    face = face_recognition.load_image_file(path_image)\n",
    "                    \n",
    "                    face_boxes = face_recognition.face_locations(face)\n",
    "                    # если найдено больше 1 лица на изображении - оно исключается\n",
    "                    if len(face_boxes) != 1:\n",
    "                        continue\n",
    "                        \n",
    "                    try:\n",
    "                        face_encod = face_recognition.face_encodings(face)[0]\n",
    "                        embeddings = np.vstack((embeddings, face_encod))\n",
    "                        # добавление таргета по имени\n",
    "                        targets.append(name_labels[name])\n",
    "                    except Exception as ex:\n",
    "                        print(f'Error: {ex}')\n",
    "                    \n",
    "                except Exception as ex:\n",
    "                    print(f'Error: {ex}')\n",
    "                    \n",
    "        return embeddings[1:], targets, name_labels\n",
    "                    \n",
    "    def __create_labels(self) -> dict:\n",
    "        ''' Создание словаря имена:таргеты '''\n",
    "        \n",
    "        name_labels = dict()\n",
    "        for label, name in enumerate(self.actors):\n",
    "            name_labels[name] = label\n",
    "        return name_labels"
   ]
  },
  {
   "cell_type": "code",
   "execution_count": 6,
   "id": "5d249cda",
   "metadata": {},
   "outputs": [],
   "source": [
    "#!!! Универсальность функции по доставанию лица с изображения\n",
    "# чтобы использовать для соло фотографии"
   ]
  },
  {
   "cell_type": "code",
   "execution_count": null,
   "id": "1eb86dd2",
   "metadata": {},
   "outputs": [],
   "source": [
    "class Model:\n",
    "    '''\n",
    "    Модель логистической регрессии\n",
    "    \n",
    "    \n",
    "    Args:\n",
    "        path_load (str): путь до каталога с эмбеддингами и таргетами\n",
    "        random_state (int): параметр random_state\n",
    "        test_size (float): параметр test_size для train_test_split\n",
    "        coef_C (float): параметр C для логистической регрессии\n",
    "    '''\n",
    "    \n",
    "    def __init__(self, path_load:str, random_state: int=0, test_size: float=0.3, coef_C: float = 0.8):\n",
    "        self.path_load = path_load\n",
    "        self.test_size = test_size\n",
    "        self.random_state = random_state\n",
    "        self.coef_C = coef_C\n",
    "        \n",
    "        # загрузка эмбеддингов и таргетов\n",
    "        self.embeddings, self.targets = self.__load_data()\n",
    "\n",
    "    def fit_model(self) -> LogisticRegression:\n",
    "    ''' \n",
    "    Обучение модели, \n",
    "    сохранение в pickle, в каталог с эмбеддингами и таргетами\n",
    "    \n",
    "    :return: модель машинного обучения, тестовые данные X_test и y_test\n",
    "    :rtype: LogisticRegression, np.array, np.array\n",
    "    \n",
    "    '''\n",
    "        \n",
    "        min_num_target, name_min_target = self.__check_min_face()\n",
    "        if min_num_target > 1:\n",
    "            X_train, X_test, y_train, y_test = train_test_split(self.embeddings, self.targets, \n",
    "                                                                test_size=self.test_size, \n",
    "                                                                random_state=self.random_state)\n",
    "            model_LR = LogisticRegression(random_state=self.random_state, C = self.coef_C)\n",
    "            model_LR.fit(X_train, y_train)\n",
    "            \n",
    "            path_save = os.path.join(self.path_load, os.path.sep, 'model_LR.pkl')\n",
    "            with open(path_save, 'wb') as f:\n",
    "                pickle.dump(model_LR, f)\n",
    "            \n",
    "            return model_LR, X_test, y_test\n",
    "        else:\n",
    "            logging.info(f'Problem with data. Target: {name_min_target}')\n",
    "    \n",
    "    def __load_data(self) -> tuple[np.array, list]:\n",
    "    ''' Загрузка данных для обучения '''\n",
    "        try:\n",
    "            path_embeddings = os.path.join(self.path_load, os.path.sep, 'embeddings.pkl')\n",
    "            with open(path_embeddings, 'rb') as file:\n",
    "                load_embeddings = pickle.load(file)\n",
    "\n",
    "            path_targets = os.path.join(self.path_load, os.path.sep, 'targets.pkl')\n",
    "            with open(path_targets, 'rb') as file:\n",
    "                load_targets = pickle.load(file)\n",
    "        except Exception as ex:\n",
    "                        print(f'Error: {ex}')\n",
    "        else:\n",
    "            return load_embeddings, load_targets\n",
    "        \n",
    "    def __check_min_target(self) -> tuple[int, str]:\n",
    "    ''' Подсчёт количества каждой из меток в списке, с нахождением минимального '''\n",
    "    \n",
    "    targets_counter = Counter(self.targets)\n",
    "    min_num_target = np.inf\n",
    "    name_min_target = ''\n",
    "    for target in targets_counter.keys():\n",
    "        if targets_counter[target] < min_num_target:\n",
    "            min_num_target = targets_counter[target]\n",
    "            name_min_target = target\n",
    "            \n",
    "    return min_num_target, str(name_min_target)\n",
    "\n",
    "\n",
    "    # ну и запуск всего добра\n",
    "    #__name__ == __main__:\n",
    "''' запуск всего скрипта на обучение, файлы до этого не запускаются сами '''\n",
    "''' С проверкой на необходимость закачки и предобработки данных! '''"
   ]
  },
  {
   "cell_type": "code",
   "execution_count": null,
   "id": "cbc1dd4d",
   "metadata": {},
   "outputs": [],
   "source": [
    "MyModel = Model(...)\n",
    "model_LR, X_test, y_test = MyModel.fit_model()\n",
    "f1_model_score = f1_score(y_test, model_LR.predict(X_test), average='micro')\n",
    "print(f'F1 score: {f1_model_score}')"
   ]
  },
  {
   "cell_type": "code",
   "execution_count": null,
   "id": "86e8c95c",
   "metadata": {},
   "outputs": [],
   "source": []
  },
  {
   "cell_type": "code",
   "execution_count": null,
   "id": "5addb85a",
   "metadata": {},
   "outputs": [],
   "source": [
    "# для имен-таргетов для вывода предсказаний\n",
    "path_act = os.path.join(self.path_load, os.path.sep, 'name_labels.json')\n",
    "with open(path_act, 'r') as file:\n",
    "    load_name_labels = json.load(file)\n",
    "            "
   ]
  },
  {
   "cell_type": "code",
   "execution_count": null,
   "id": "1018d587",
   "metadata": {},
   "outputs": [],
   "source": [
    "base_random_state = 13\n",
    "base_test_size = 0.3\n",
    "\n",
    "y_data = data['Churn'].values\n",
    "X_data = data.drop('Churn', axis=1).values\n",
    "X_train_main, X_test_main, y_train_main, y_test_main = train_test_split(X_data, y_data, \n",
    "                                                                        test_size=base_test_size, \n",
    "                                                                        random_state=base_random_state)\n",
    "# параметры мета-алгоритма\n",
    "lr_params = {'C': np.arange(0.5, 1, 0.1)} # LogisticRegression\n",
    "# параметры валидации\n",
    "base_cv = 5\n",
    "skf_params = StratifiedKFold(n_splits=5, random_state=base_random_state, shuffle=True)\n",
    "my_n_jobs = multiprocessing.cpu_count() - 2\n",
    "\n",
    "# функция для вычисления ниболее подходящих параметров для моделей\n",
    "def top_gs(model, params, X_train_gs, y_train_gs, cv_or_skf):\n",
    "    tmp_gs_model = GridSearchCV(estimator=model, param_grid=params, cv=cv_or_skf, scoring='roc_auc')\n",
    "    tmp_gs_model.fit(X_train_gs, y_train_gs)\n",
    "    print('Best params for {name}: {params}\\n'.format(name=model.__class__.__name__, \n",
    "                                                    params=tmp_gs_model.best_params_))    \n",
    "    \n",
    "# инициализация мета-алгоритма\n",
    "lr = LogisticRegression(random_state=base_random_state)\n",
    "\n",
    "lr_2 = LogisticRegression(random_state=base_random_state)\n",
    "top_gs(lr_2, lr_params, X_train_main, y_train_main, skf_params)\n",
    "lr_2.set_params(C = 0.9)\n",
    "lr_2.fit(X_train_main, y_train_main)\n",
    "\n",
    "# Получение прогнозов по отложенной выборке \n",
    "lr_2_test_predict = lr_2.predict(X_test_main)\n",
    "lr_2_test_predict_proba = lr_2.predict_proba(X_test_main)\n",
    "\n",
    "lr_2_recall = recall_score(y_test_main, lr_2_test_predict)\n",
    "print('Recall score для lr_2: {score} '.format(score=lr_2_recall))\n",
    "\n",
    "lr_2_roc_auc = roc_auc_score(y_test, lr_2_test_predict_proba[:, 1])\n",
    "print('Roc_Auc score для lr_2: {score}'.format(score=lr_2_roc_auc))"
   ]
  },
  {
   "cell_type": "code",
   "execution_count": null,
   "id": "876c8505",
   "metadata": {},
   "outputs": [],
   "source": []
  },
  {
   "cell_type": "code",
   "execution_count": null,
   "id": "32bafd9f",
   "metadata": {},
   "outputs": [],
   "source": []
  },
  {
   "cell_type": "code",
   "execution_count": null,
   "id": "93663f61",
   "metadata": {},
   "outputs": [],
   "source": []
  },
  {
   "cell_type": "code",
   "execution_count": null,
   "id": "7db6b0c4",
   "metadata": {},
   "outputs": [],
   "source": []
  },
  {
   "cell_type": "code",
   "execution_count": null,
   "id": "2bf08d28",
   "metadata": {},
   "outputs": [],
   "source": []
  },
  {
   "cell_type": "code",
   "execution_count": null,
   "id": "8107ec28",
   "metadata": {},
   "outputs": [],
   "source": []
  },
  {
   "cell_type": "code",
   "execution_count": null,
   "id": "f90f05a0",
   "metadata": {},
   "outputs": [],
   "source": []
  },
  {
   "cell_type": "code",
   "execution_count": null,
   "id": "bcac83c5",
   "metadata": {},
   "outputs": [],
   "source": [
    "face = face_recognition.load_image_file(f'{path_to_images}/{person}/Image_1.jpg')\n",
    "face_boxes = face_recognition.face_locations(face)"
   ]
  },
  {
   "cell_type": "code",
   "execution_count": null,
   "id": "5462b892",
   "metadata": {},
   "outputs": [],
   "source": [
    "face_enc = face_recognition.face_encodings(face)"
   ]
  },
  {
   "cell_type": "code",
   "execution_count": null,
   "id": "39d05ba4",
   "metadata": {},
   "outputs": [],
   "source": [
    "embeddings = np.empty(128)\n",
    "embeddings = np.vstack((embedings, face_enc))"
   ]
  },
  {
   "cell_type": "code",
   "execution_count": null,
   "id": "2a5df1bd",
   "metadata": {},
   "outputs": [],
   "source": [
    "with open (f'{path_to_images}/{person}/embeddings.pkl', 'wb') as f:\n",
    "    pickle.dump(embeddings, f)"
   ]
  },
  {
   "cell_type": "code",
   "execution_count": null,
   "id": "ac9ed555",
   "metadata": {},
   "outputs": [],
   "source": [
    "os.listdir(f'{path_to_images}/{person}')"
   ]
  },
  {
   "cell_type": "code",
   "execution_count": null,
   "id": "7bf7e9a9",
   "metadata": {},
   "outputs": [],
   "source": [
    "#--------------------------------------------------------------------------------------------------------------------#"
   ]
  },
  {
   "cell_type": "code",
   "execution_count": 7,
   "id": "016a0f9d",
   "metadata": {},
   "outputs": [],
   "source": [
    "path_image = os.path.join(path_to_images, 'face Helena Bonham Carter')\n",
    "with Image.open(os.path.join(path_image, 'Image_1.jpg')) as img:\n",
    "    newImRes = resize_photo(img, 256)\n",
    "    newImRes"
   ]
  },
  {
   "cell_type": "code",
   "execution_count": 12,
   "id": "db5e465b",
   "metadata": {},
   "outputs": [
    {
     "data": {
      "text/plain": [
       "PIL.Image.Image"
      ]
     },
     "execution_count": 12,
     "metadata": {},
     "output_type": "execute_result"
    }
   ],
   "source": [
    "type(newImRes)"
   ]
  },
  {
   "cell_type": "code",
   "execution_count": 55,
   "id": "932768d7",
   "metadata": {},
   "outputs": [],
   "source": [
    "img_resized.show()"
   ]
  },
  {
   "cell_type": "code",
   "execution_count": 67,
   "id": "bfd93e4c",
   "metadata": {},
   "outputs": [],
   "source": [
    "new_img = Image.new(\"RGBA\", img_resized.size)\n",
    "new_img = new_img.paste(img_resized)\n",
    "new_img"
   ]
  },
  {
   "cell_type": "code",
   "execution_count": null,
   "id": "11d5a809",
   "metadata": {},
   "outputs": [],
   "source": []
  },
  {
   "cell_type": "code",
   "execution_count": 114,
   "id": "8f98f979",
   "metadata": {},
   "outputs": [],
   "source": [
    "img_resized = mpimg.imread(os.path.join(path_image, 'Image_1.jpg'))"
   ]
  },
  {
   "cell_type": "code",
   "execution_count": 121,
   "id": "13175793",
   "metadata": {},
   "outputs": [],
   "source": [
    "def rgb2gray(rgb):\n",
    "    ''' Берётся среднее трёх цветов RGB'''\n",
    "    tile = np.tile(np.c_[0.5, 0.5, 0.5], reps=(rgb.shape[0],rgb.shape[1],1))\n",
    "    #print((tile*rgb)[:3])\n",
    "    return np.sum(tile * rgb, axis=2)"
   ]
  },
  {
   "cell_type": "code",
   "execution_count": 122,
   "id": "d0a061eb",
   "metadata": {},
   "outputs": [
    {
     "ename": "ValueError",
     "evalue": "operands could not be broadcast together with shapes (2048,2048,3) (2048,2048) ",
     "output_type": "error",
     "traceback": [
      "\u001b[1;31m---------------------------------------------------------------------------\u001b[0m",
      "\u001b[1;31mValueError\u001b[0m                                Traceback (most recent call last)",
      "Input \u001b[1;32mIn [122]\u001b[0m, in \u001b[0;36m<cell line: 5>\u001b[1;34m()\u001b[0m\n\u001b[0;32m      2\u001b[0m \u001b[38;5;28;01mfrom\u001b[39;00m \u001b[38;5;21;01mmatplotlib\u001b[39;00m\u001b[38;5;21;01m.\u001b[39;00m\u001b[38;5;21;01mpyplot\u001b[39;00m \u001b[38;5;28;01mimport\u001b[39;00m imshow\n\u001b[0;32m      3\u001b[0m \u001b[38;5;28;01mimport\u001b[39;00m \u001b[38;5;21;01mmatplotlib\u001b[39;00m\u001b[38;5;21;01m.\u001b[39;00m\u001b[38;5;21;01mimage\u001b[39;00m \u001b[38;5;28;01mas\u001b[39;00m \u001b[38;5;21;01mmpimg\u001b[39;00m\n\u001b[1;32m----> 5\u001b[0m img_gray \u001b[38;5;241m=\u001b[39m \u001b[43mrgb2gray\u001b[49m\u001b[43m(\u001b[49m\u001b[43mimg_resized\u001b[49m\u001b[43m)\u001b[49m\n\u001b[0;32m      6\u001b[0m \u001b[38;5;28mprint\u001b[39m(\u001b[38;5;28mtype\u001b[39m(img_gray), img_gray\u001b[38;5;241m.\u001b[39mshape)\n\u001b[0;32m      7\u001b[0m imshow(img_gray, cmap \u001b[38;5;241m=\u001b[39m \u001b[38;5;124m\"\u001b[39m\u001b[38;5;124mgray\u001b[39m\u001b[38;5;124m\"\u001b[39m)\n",
      "Input \u001b[1;32mIn [121]\u001b[0m, in \u001b[0;36mrgb2gray\u001b[1;34m(rgb)\u001b[0m\n\u001b[0;32m      3\u001b[0m tile \u001b[38;5;241m=\u001b[39m np\u001b[38;5;241m.\u001b[39mtile(np\u001b[38;5;241m.\u001b[39mc_[\u001b[38;5;241m0.5\u001b[39m, \u001b[38;5;241m0.5\u001b[39m, \u001b[38;5;241m0.5\u001b[39m], reps\u001b[38;5;241m=\u001b[39m(rgb\u001b[38;5;241m.\u001b[39mshape[\u001b[38;5;241m0\u001b[39m],rgb\u001b[38;5;241m.\u001b[39mshape[\u001b[38;5;241m1\u001b[39m],\u001b[38;5;241m1\u001b[39m))\n\u001b[0;32m      4\u001b[0m \u001b[38;5;66;03m#print((tile*rgb)[:3])\u001b[39;00m\n\u001b[1;32m----> 5\u001b[0m \u001b[38;5;28;01mreturn\u001b[39;00m np\u001b[38;5;241m.\u001b[39msum(\u001b[43mtile\u001b[49m\u001b[43m \u001b[49m\u001b[38;5;241;43m*\u001b[39;49m\u001b[43m \u001b[49m\u001b[43mrgb\u001b[49m, axis\u001b[38;5;241m=\u001b[39m\u001b[38;5;241m2\u001b[39m)\n",
      "\u001b[1;31mValueError\u001b[0m: operands could not be broadcast together with shapes (2048,2048,3) (2048,2048) "
     ]
    }
   ],
   "source": [
    "import matplotlib.pyplot as plt\n",
    "from matplotlib.pyplot import imshow\n",
    "import matplotlib.image as mpimg\n",
    "\n",
    "img_gray = rgb2gray(img_resized)\n",
    "print(type(img_gray), img_gray.shape)\n",
    "imshow(img_gray, cmap = \"gray\")\n",
    "plt.show()"
   ]
  },
  {
   "cell_type": "code",
   "execution_count": null,
   "id": "0a1ee0b7",
   "metadata": {},
   "outputs": [],
   "source": []
  },
  {
   "cell_type": "code",
   "execution_count": null,
   "id": "51c76814",
   "metadata": {},
   "outputs": [],
   "source": []
  },
  {
   "cell_type": "code",
   "execution_count": 49,
   "id": "fca54dfd",
   "metadata": {},
   "outputs": [],
   "source": [
    "img_resized.convert('RGB').save(os.path.join(path_image, 'Image_1_resized_convert.jpg'))"
   ]
  },
  {
   "cell_type": "code",
   "execution_count": 41,
   "id": "95e1e629",
   "metadata": {},
   "outputs": [
    {
     "data": {
      "image/png": "[encoded data removed]",
      "text/plain": [
       "<PIL.Image.Image image mode=RGB size=64x64>"
      ]
     },
     "execution_count": 41,
     "metadata": {},
     "output_type": "execute_result"
    }
   ],
   "source": []
  },
  {
   "cell_type": "code",
   "execution_count": 6,
   "id": "d939f2dd",
   "metadata": {},
   "outputs": [
    {
     "data": {
      "text/plain": [
       "11"
      ]
     },
     "execution_count": 6,
     "metadata": {},
     "output_type": "execute_result"
    }
   ],
   "source": [
    "import glob\n",
    "path_to_images = os.path.abspath(os.path.join('E:', os.path.sep, 'image'))\n",
    "person = 'face Angelina Jolie'\n",
    "len(glob.glob(f'{path_to_images}/{person}/*'))"
   ]
  },
  {
   "cell_type": "code",
   "execution_count": 22,
   "id": "fcfbfc15",
   "metadata": {},
   "outputs": [
    {
     "data": {
      "text/plain": [
       "['E:\\\\image/face Angelina Jolie\\\\Image_1.jpg',\n",
       " 'E:\\\\image/face Angelina Jolie\\\\Image_10.jpg',\n",
       " 'E:\\\\image/face Angelina Jolie\\\\Image_1_resized.jpg',\n",
       " 'E:\\\\image/face Angelina Jolie\\\\Image_2.jpg',\n",
       " 'E:\\\\image/face Angelina Jolie\\\\Image_3.JPG',\n",
       " 'E:\\\\image/face Angelina Jolie\\\\Image_4.jpg',\n",
       " 'E:\\\\image/face Angelina Jolie\\\\Image_5.jpg',\n",
       " 'E:\\\\image/face Angelina Jolie\\\\Image_6.jpg',\n",
       " 'E:\\\\image/face Angelina Jolie\\\\Image_7.jpg',\n",
       " 'E:\\\\image/face Angelina Jolie\\\\Image_8.jpg',\n",
       " 'E:\\\\image/face Angelina Jolie\\\\Image_9.jpg']"
      ]
     },
     "execution_count": 22,
     "metadata": {},
     "output_type": "execute_result"
    }
   ],
   "source": [
    "glob.glob(f'{path_to_images}/{person}/*')"
   ]
  },
  {
   "cell_type": "code",
   "execution_count": 7,
   "id": "f7d4edb8",
   "metadata": {},
   "outputs": [
    {
     "data": {
      "text/plain": [
       "['Image_1.jpg',\n",
       " 'Image_10.jpg',\n",
       " 'Image_1_resized.jpg',\n",
       " 'Image_2.jpg',\n",
       " 'Image_3.JPG',\n",
       " 'Image_4.jpg',\n",
       " 'Image_5.jpg',\n",
       " 'Image_6.jpg',\n",
       " 'Image_7.jpg',\n",
       " 'Image_8.jpg',\n",
       " 'Image_9.jpg']"
      ]
     },
     "execution_count": 7,
     "metadata": {},
     "output_type": "execute_result"
    }
   ],
   "source": [
    "os.listdir(f'{path_to_images}/{person}')"
   ]
  },
  {
   "cell_type": "code",
   "execution_count": 8,
   "id": "ea057879",
   "metadata": {},
   "outputs": [],
   "source": [
    "face = face_recognition.load_image_file(f'{path_to_images}/{person}/Image_1.jpg')\n",
    "face_boxes = face_recognition.face_locations(face)"
   ]
  },
  {
   "cell_type": "code",
   "execution_count": 9,
   "id": "2b68af90",
   "metadata": {},
   "outputs": [
    {
     "data": {
      "text/plain": [
       "[(298, 1043, 1256, 85)]"
      ]
     },
     "execution_count": 9,
     "metadata": {},
     "output_type": "execute_result"
    }
   ],
   "source": [
    "face_boxes"
   ]
  },
  {
   "cell_type": "code",
   "execution_count": 10,
   "id": "b8eee342",
   "metadata": {},
   "outputs": [
    {
     "data": {
      "text/plain": [
       "<matplotlib.image.AxesImage at 0x1e36d3284c0>"
      ]
     },
     "execution_count": 10,
     "metadata": {},
     "output_type": "execute_result"
    },
    {
     "data": {
      "image/png": "[encoded data removed]",
      "text/plain": [
       "<Figure size 432x288 with 1 Axes>"
      ]
     },
     "metadata": {
      "needs_background": "light"
     },
     "output_type": "display_data"
    }
   ],
   "source": [
    "from matplotlib.pyplot import imshow\n",
    "cropped = face[298:1043, 85:1256]\n",
    "imshow(cropped)"
   ]
  },
  {
   "cell_type": "code",
   "execution_count": 20,
   "id": "9e9eb0a2",
   "metadata": {},
   "outputs": [],
   "source": [
    "face_enc = face_recognition.face_encodings(face)[0]"
   ]
  },
  {
   "cell_type": "code",
   "execution_count": 21,
   "id": "8e31c2d6",
   "metadata": {},
   "outputs": [
    {
     "data": {
      "text/plain": [
       "array([-0.12147723,  0.11791576,  0.21875428, -0.07975225, -0.11812846,\n",
       "       -0.0398988 , -0.05937986, -0.13103133,  0.17880462, -0.11699323,\n",
       "        0.19326422, -0.04938241, -0.35984007,  0.04525584, -0.05929466,\n",
       "        0.16341585, -0.13712722, -0.20814212, -0.06984105, -0.06026541,\n",
       "        0.05838125, -0.00338435, -0.05784539,  0.07802898, -0.16128778,\n",
       "       -0.35597974, -0.08707687,  0.02547696, -0.10665647, -0.1603146 ,\n",
       "        0.04861875,  0.11466263, -0.2248753 ,  0.03327718, -0.07225315,\n",
       "        0.18152286, -0.01954834, -0.21204171,  0.04086827,  0.06648828,\n",
       "       -0.27162477, -0.10915212,  0.06318666,  0.25316218,  0.2110514 ,\n",
       "       -0.05138711,  0.0846943 , -0.04458064,  0.09397285, -0.2864913 ,\n",
       "       -0.00808341,  0.21525773,  0.04028871,  0.09671867,  0.07985184,\n",
       "       -0.27318335,  0.06409194,  0.05681464, -0.11719589,  0.01551921,\n",
       "        0.12503488, -0.13339764,  0.04402679, -0.05606855,  0.18208599,\n",
       "        0.0887375 , -0.14268818, -0.08157942,  0.19601478, -0.1321262 ,\n",
       "       -0.04590475,  0.01785036, -0.21672866, -0.20680416, -0.34113523,\n",
       "        0.04385616,  0.4292025 ,  0.09969439, -0.1045318 ,  0.09206659,\n",
       "       -0.07492158,  0.0381575 , -0.03673379,  0.24944054,  0.011419  ,\n",
       "        0.09904294, -0.13134353,  0.14059204,  0.19702061,  0.00818394,\n",
       "        0.00727811,  0.24848224, -0.04093985, -0.03790927,  0.02297342,\n",
       "        0.07907534, -0.11780481,  0.04387259, -0.09046534,  0.06730799,\n",
       "       -0.04259833, -0.05875917, -0.05096105,  0.07571447, -0.12446955,\n",
       "        0.12724851,  0.04923512,  0.01991907, -0.09052594, -0.07184892,\n",
       "       -0.09259225, -0.03043868,  0.13150504, -0.27786246,  0.14123106,\n",
       "        0.20496924,  0.03434112,  0.14828834,  0.06298576,  0.12418316,\n",
       "        0.06705145, -0.08051972, -0.0976949 , -0.03459054, -0.03474038,\n",
       "       -0.04565192, -0.04501808,  0.06608769])"
      ]
     },
     "execution_count": 21,
     "metadata": {},
     "output_type": "execute_result"
    }
   ],
   "source": [
    "face_enc"
   ]
  },
  {
   "cell_type": "code",
   "execution_count": 13,
   "id": "3e556e1c",
   "metadata": {},
   "outputs": [
    {
     "data": {
      "text/plain": [
       "1"
      ]
     },
     "execution_count": 13,
     "metadata": {},
     "output_type": "execute_result"
    }
   ],
   "source": [
    "len(face_enc)"
   ]
  },
  {
   "cell_type": "code",
   "execution_count": 18,
   "id": "4378851c",
   "metadata": {},
   "outputs": [],
   "source": [
    "embedings = np.empty(128)\n",
    "embedings = np.vstack((embedings, face_enc[0]))"
   ]
  },
  {
   "cell_type": "code",
   "execution_count": 19,
   "id": "a344da9d",
   "metadata": {},
   "outputs": [
    {
     "data": {
      "text/plain": [
       "array([[ 1.02576354e-311,  1.02576485e-311,  1.02583077e-311,\n",
       "         1.02576488e-311,  1.02582554e-311,  1.02582584e-311,\n",
       "         1.02582528e-311,  1.02582465e-311,  1.02576471e-311,\n",
       "         1.02582565e-311,  1.02582534e-311,  1.02582534e-311,\n",
       "         1.02582535e-311,  1.02582538e-311,  1.02582538e-311,\n",
       "         1.02576407e-311,  1.02582520e-311,  1.02582536e-311,\n",
       "         1.02582535e-311,  1.02582535e-311,  1.02582557e-311,\n",
       "         1.02582553e-311,  1.02582540e-311,  1.02582555e-311,\n",
       "         1.02576500e-311,  1.02582563e-311,  1.02582563e-311,\n",
       "         1.02582528e-311,  1.02582935e-311,  1.02582564e-311,\n",
       "         1.02582529e-311,  1.02582529e-311,  1.02582529e-311,\n",
       "         1.02582529e-311,  1.02582556e-311,  1.02582937e-311,\n",
       "         1.02582501e-311,  1.02582501e-311,  1.02582498e-311,\n",
       "         1.02583076e-311,  1.02582502e-311,  1.02582502e-311,\n",
       "         1.02582502e-311,  1.02582538e-311,  1.02582538e-311,\n",
       "         1.02582538e-311,  1.02582529e-311,  1.02582529e-311,\n",
       "         1.02582548e-311,  1.02582548e-311,  1.02582548e-311,\n",
       "         1.02582548e-311,  1.02582548e-311,  1.02582548e-311,\n",
       "         1.02582548e-311,  1.02582548e-311,  1.02582548e-311,\n",
       "         1.02582548e-311,  1.02582548e-311,  1.02582548e-311,\n",
       "         1.02582549e-311,  1.02582549e-311,  1.02582549e-311,\n",
       "         1.02582549e-311,  1.02582549e-311,  1.02582549e-311,\n",
       "         1.02582549e-311,  1.02582549e-311,  1.02582549e-311,\n",
       "         1.02582540e-311,  1.02582540e-311,  1.02582540e-311,\n",
       "         1.02582540e-311,  1.02582540e-311,  1.02582593e-311,\n",
       "         1.02582531e-311,  1.02582531e-311,  1.02582531e-311,\n",
       "         1.02582531e-311,  1.02582531e-311,  1.02582531e-311,\n",
       "         1.02582531e-311,  1.02582531e-311,  1.02582531e-311,\n",
       "         1.02582531e-311,  1.02582531e-311,  1.02582531e-311,\n",
       "         1.02582531e-311,  1.02582531e-311,  1.02582531e-311,\n",
       "         1.02582531e-311,  1.02582938e-311,  1.02582938e-311,\n",
       "         1.02582938e-311,  1.02582594e-311,  1.02582525e-311,\n",
       "         1.02582526e-311,  1.02582526e-311,  1.02582594e-311,\n",
       "         1.02582540e-311,  1.02582540e-311,  1.02582540e-311,\n",
       "         1.02582549e-311,  1.02582549e-311,  1.02582549e-311,\n",
       "         1.02582549e-311,  1.02582549e-311,  1.02582549e-311,\n",
       "         1.02582549e-311,  1.02582549e-311,  1.02582549e-311,\n",
       "         1.02582549e-311,  1.02582549e-311,  1.02582549e-311,\n",
       "         1.02582549e-311,  1.02582549e-311,  1.02582549e-311,\n",
       "         1.02582549e-311,  1.02576301e-311,  1.02582550e-311,\n",
       "         1.02582550e-311,  1.02582550e-311,  1.02582550e-311,\n",
       "         1.02582550e-311,  1.02582550e-311,  1.02582550e-311,\n",
       "         1.02582550e-311,  1.02582550e-311],\n",
       "       [-1.21477231e-001,  1.17915757e-001,  2.18754277e-001,\n",
       "        -7.97522515e-002, -1.18128464e-001, -3.98988016e-002,\n",
       "        -5.93798608e-002, -1.31031334e-001,  1.78804621e-001,\n",
       "        -1.16993226e-001,  1.93264216e-001, -4.93824109e-002,\n",
       "        -3.59840065e-001,  4.52558361e-002, -5.92946634e-002,\n",
       "         1.63415849e-001, -1.37127221e-001, -2.08142117e-001,\n",
       "        -6.98410496e-002, -6.02654070e-002,  5.83812520e-002,\n",
       "        -3.38434731e-003, -5.78453876e-002,  7.80289769e-002,\n",
       "        -1.61287785e-001, -3.55979741e-001, -8.70768726e-002,\n",
       "         2.54769642e-002, -1.06656469e-001, -1.60314605e-001,\n",
       "         4.86187525e-002,  1.14662632e-001, -2.24875301e-001,\n",
       "         3.32771800e-002, -7.22531453e-002,  1.81522861e-001,\n",
       "        -1.95483416e-002, -2.12041706e-001,  4.08682749e-002,\n",
       "         6.64882809e-002, -2.71624774e-001, -1.09152123e-001,\n",
       "         6.31866604e-002,  2.53162175e-001,  2.11051404e-001,\n",
       "        -5.13871089e-002,  8.46943036e-002, -4.45806384e-002,\n",
       "         9.39728469e-002, -2.86491305e-001, -8.08341056e-003,\n",
       "         2.15257734e-001,  4.02887128e-002,  9.67186689e-002,\n",
       "         7.98518360e-002, -2.73183346e-001,  6.40919432e-002,\n",
       "         5.68146370e-002, -1.17195889e-001,  1.55192111e-002,\n",
       "         1.25034884e-001, -1.33397639e-001,  4.40267883e-002,\n",
       "        -5.60685545e-002,  1.82085991e-001,  8.87375027e-002,\n",
       "        -1.42688185e-001, -8.15794170e-002,  1.96014777e-001,\n",
       "        -1.32126197e-001, -4.59047519e-002,  1.78503618e-002,\n",
       "        -2.16728657e-001, -2.06804156e-001, -3.41135234e-001,\n",
       "         4.38561589e-002,  4.29202497e-001,  9.96943861e-002,\n",
       "        -1.04531802e-001,  9.20665935e-002, -7.49215782e-002,\n",
       "         3.81574966e-002, -3.67337875e-002,  2.49440536e-001,\n",
       "         1.14190020e-002,  9.90429446e-002, -1.31343529e-001,\n",
       "         1.40592039e-001,  1.97020605e-001,  8.18393659e-003,\n",
       "         7.27810990e-003,  2.48482242e-001, -4.09398526e-002,\n",
       "        -3.79092693e-002,  2.29734220e-002,  7.90753365e-002,\n",
       "        -1.17804810e-001,  4.38725948e-002, -9.04653370e-002,\n",
       "         6.73079938e-002, -4.25983332e-002, -5.87591678e-002,\n",
       "        -5.09610474e-002,  7.57144690e-002, -1.24469548e-001,\n",
       "         1.27248511e-001,  4.92351241e-002,  1.99190695e-002,\n",
       "        -9.05259401e-002, -7.18489215e-002, -9.25922543e-002,\n",
       "        -3.04386839e-002,  1.31505042e-001, -2.77862459e-001,\n",
       "         1.41231060e-001,  2.04969242e-001,  3.43411230e-002,\n",
       "         1.48288339e-001,  6.29857630e-002,  1.24183156e-001,\n",
       "         6.70514479e-002, -8.05197209e-002, -9.76948962e-002,\n",
       "        -3.45905423e-002, -3.47403847e-002, -4.56519239e-002,\n",
       "        -4.50180769e-002,  6.60876930e-002]])"
      ]
     },
     "execution_count": 19,
     "metadata": {},
     "output_type": "execute_result"
    }
   ],
   "source": [
    "embedings"
   ]
  },
  {
   "cell_type": "code",
   "execution_count": null,
   "id": "2f0acced",
   "metadata": {},
   "outputs": [],
   "source": [
    "with open (f'{path_to_images}/{person}/embedings.pkl', 'wb') as f:\n",
    "    pickle.dump(embedings, f)"
   ]
  },
  {
   "cell_type": "code",
   "execution_count": null,
   "id": "e7103ccb",
   "metadata": {},
   "outputs": [],
   "source": [
    "os.listdir('E:\\\\image/Angelina Jolie')"
   ]
  },
  {
   "cell_type": "code",
   "execution_count": null,
   "id": "2fcffcfc",
   "metadata": {},
   "outputs": [],
   "source": [
    "with open (f'{path_to_images}/{person}/embedings.pkl', 'rb') as f:\n",
    "    new_embedings = pickle.load(f)\n",
    "new_embedings"
   ]
  }
 ],
 "metadata": {
  "kernelspec": {
   "display_name": "Python 3 (ipykernel)",
   "language": "python",
   "name": "python3"
  },
  "language_info": {
   "codemirror_mode": {
    "name": "ipython",
    "version": 3
   },
   "file_extension": ".py",
   "mimetype": "text/x-python",
   "name": "python",
   "nbconvert_exporter": "python",
   "pygments_lexer": "ipython3",
   "version": "3.9.7"
  }
 },
 "nbformat": 4,
 "nbformat_minor": 5
}
